{
 "cells": [
  {
   "cell_type": "markdown",
   "id": "b073aef5-4ee6-4860-b4f0-fde28fc3e02e",
   "metadata": {},
   "source": [
    "# Data Challenge ENS \"Reconstruction of Liquid Asset Performance\"\n",
    "\n",
    "**Groupe : Elyas Benyamina, Alexis Ibrahim & Antoine Mathis**\n",
    "\n",
    "**Professeur : Bertrand Michel**\n",
    "\n",
    "Sommaire :\n",
    "    \n",
    "1. Import des librairies\n",
    "2. Lecture des données\n",
    "3. Manipulation des données\n",
    "4. Analyse des données\n",
    "5. Gestion des valeurs manquantes en effectuant un traitement par ligne\n",
    "6. Algorithmes de prédiction\n",
    "7. Résultats\n",
    "8. Annexe : Autres approches et pistes"
   ]
  },
  {
   "cell_type": "markdown",
   "id": "8ab9f078-b7bb-4f07-b80f-3316c28a8e6b",
   "metadata": {
    "jp-MarkdownHeadingCollapsed": true,
    "tags": []
   },
   "source": [
    "## 1. Import des librairies"
   ]
  },
  {
   "cell_type": "code",
   "execution_count": 85,
   "id": "40d1dcc7-b2a6-4098-beca-41f370e765af",
   "metadata": {},
   "outputs": [],
   "source": [
    "import pandas as pd\n",
    "import numpy as np\n",
    "from tqdm.notebook import tqdm\n",
    "from sklearn import linear_model\n",
    "from sklearn.impute import SimpleImputer\n",
    "from sklearn.model_selection import train_test_split\n",
    "import matplotlib.pyplot as plt\n",
    "from scipy.stats import uniform, truncnorm, randint\n",
    "from sklearn.ensemble import RandomForestClassifier\n",
    "from sklearn.ensemble import RandomForestRegressor\n",
    "from sklearn.model_selection import GridSearchCV\n",
    "from sklearn.cluster import KMeans\n",
    "from sklearn.model_selection import RandomizedSearchCV\n",
    "from sklearn.datasets import make_friedman2\n",
    "from sklearn.gaussian_process import GaussianProcessRegressor\n",
    "from sklearn.gaussian_process.kernels import DotProduct, WhiteKernel\n",
    "from sklearn.cluster import KMeans\n",
    "from sklearn.gaussian_process.kernels import RBF\n",
    "import seaborn as sns"
   ]
  },
  {
   "cell_type": "markdown",
   "id": "6055a81f-5761-4ab3-8bf0-51b9888d2134",
   "metadata": {
    "jp-MarkdownHeadingCollapsed": true,
    "tags": []
   },
   "source": [
    "## 2. Lecture des données"
   ]
  },
  {
   "cell_type": "markdown",
   "id": "de328e5b-3094-42f2-8cb6-811d69c54012",
   "metadata": {},
   "source": [
    "### Téléchargement des données depuis un compte Google Drive connecté (pour les utilisateurs de Google Colab)"
   ]
  },
  {
   "cell_type": "code",
   "execution_count": null,
   "id": "cbbaa8e3-4539-4b6c-ab12-643d4dafa037",
   "metadata": {},
   "outputs": [],
   "source": [
    "from google.colab import drive\n",
    "drive.mount('/content/drive')\n",
    "\n",
    "!cp -r \"/content/drive/MyDrive/Colab Notebooks/y_train.csv\" \"/content/\"\n",
    "!cp -r \"/content/drive/My Drive/Colab Notebooks/X_test.csv\" \"/content/\"\n",
    "!cp -r \"/content/drive/My Drive/Colab Notebooks/X_train.csv\" \"/content/\"\n",
    "!cp -r \"/content/drive/My Drive/Colab Notebooks/supplementary_data.csv\" \"/content/\""
   ]
  },
  {
   "cell_type": "markdown",
   "id": "192718f7-f0fb-458d-a218-2b10d4aab179",
   "metadata": {},
   "source": [
    "### Téléchargement des données via URL"
   ]
  },
  {
   "cell_type": "code",
   "execution_count": 87,
   "id": "57dab3af-0257-4130-a3c0-719ec4ebbc06",
   "metadata": {},
   "outputs": [
    {
     "name": "stderr",
     "output_type": "stream",
     "text": [
      "Downloading...\n",
      "From: https://drive.google.com/uc?id=1WoeLMFKMhJUfvRFgeD0SHwCigBHGCbal\n",
      "To: /home/jupyter/X_train.csv\n",
      "100%|██████████| 557M/557M [00:02<00:00, 244MB/s]  \n",
      "Downloading...\n",
      "From: https://drive.google.com/uc?id=1gZpX7VL1-Cw2TmtBKOWFCpNBK45UmcPM\n",
      "To: /home/jupyter/X_test.csv\n",
      "100%|██████████| 239M/239M [00:01<00:00, 194MB/s]  \n",
      "Downloading...\n",
      "From: https://drive.google.com/uc?id=1kdgBQ-xebQX7B-6MdXtJPrrpN6mgE0n-\n",
      "To: /home/jupyter/y_train.csv\n",
      "100%|██████████| 7.76M/7.76M [00:00<00:00, 71.8MB/s]\n",
      "Downloading...\n",
      "From: https://drive.google.com/uc?id=1Fg31pCfHZSehhLEBP3xtgV6y6zKrSuQh\n",
      "To: /home/jupyter/supplementary_data.csv\n",
      "100%|██████████| 3.24k/3.24k [00:00<00:00, 7.12MB/s]\n"
     ]
    },
    {
     "data": {
      "text/plain": [
       "'supplementary_data.csv'"
      ]
     },
     "execution_count": 87,
     "metadata": {},
     "output_type": "execute_result"
    }
   ],
   "source": [
    "import gdown\n",
    "\n",
    "url = 'https://drive.google.com/uc?id=1WoeLMFKMhJUfvRFgeD0SHwCigBHGCbal'\n",
    "output = 'X_train.csv'\n",
    "gdown.download(url, output, quiet=False)\n",
    "\n",
    "url = 'https://drive.google.com/uc?id=1gZpX7VL1-Cw2TmtBKOWFCpNBK45UmcPM'\n",
    "output = 'X_test.csv'\n",
    "gdown.download(url, output, quiet=False)\n",
    "\n",
    "\n",
    "url = 'https://drive.google.com/uc?id=1kdgBQ-xebQX7B-6MdXtJPrrpN6mgE0n-'\n",
    "output = 'y_train.csv'\n",
    "gdown.download(url, output, quiet=False)\n",
    "\n",
    "url = 'https://drive.google.com/uc?id=1Fg31pCfHZSehhLEBP3xtgV6y6zKrSuQh'\n",
    "output = 'supplementary_data.csv'\n",
    "gdown.download(url, output, quiet=False)"
   ]
  },
  {
   "cell_type": "markdown",
   "id": "4557492c-7710-4aa9-891f-9f90959eb70b",
   "metadata": {},
   "source": [
    "### Lecture des données\n"
   ]
  },
  {
   "cell_type": "code",
   "execution_count": 88,
   "id": "d0d5bddb-77b9-468b-90d0-35994a45f6fc",
   "metadata": {},
   "outputs": [],
   "source": [
    "X_train = pd.read_csv('X_train.csv', index_col=0)\n",
    "y_train = pd.read_csv('y_train.csv', index_col=0)\n",
    "X_test = pd.read_csv('X_test.csv', index_col=0)\n",
    "supp_data = pd.read_csv('supplementary_data.csv')"
   ]
  },
  {
   "cell_type": "markdown",
   "id": "e0382986-af26-4e69-9f7b-cc90327979cc",
   "metadata": {
    "jp-MarkdownHeadingCollapsed": true,
    "tags": []
   },
   "source": [
    "## 3. Manipulation des données"
   ]
  },
  {
   "cell_type": "markdown",
   "id": "e4e5a397-515f-4b2e-b0f0-98e3af20bd37",
   "metadata": {
    "jp-MarkdownHeadingCollapsed": true,
    "tags": []
   },
   "source": [
    "### Fusion des données jounrnalières (obtention d'un tableau une ligne = un jour)"
   ]
  },
  {
   "cell_type": "code",
   "execution_count": null,
   "id": "4843f2e6-7fe5-4eae-b573-bdffebcec3ec",
   "metadata": {},
   "outputs": [],
   "source": [
    "def daily_returns(X_train, y_train):\n",
    "    idx_ret_features = np.where(X_train.columns.str.contains('RET'))[0]\n",
    "    i_returns = {}\n",
    "    l_returns ={}\n",
    "    for day in tqdm(X_train.ID_DAY.unique()):\n",
    "        u = X_train.loc[X_train.ID_DAY == day]\n",
    "        a = u.iloc[0, idx_ret_features]\n",
    "        b = y_train[X_train.ID_DAY == day]['RET_TARGET']\n",
    "        b.index = ['RET_' + str(ret_target) for ret_target in u.ID_TARGET]\n",
    "        i_returns[day] = a\n",
    "        l_returns[day] = b\n",
    "    i_returns = pd.DataFrame(i_returns).T.astype(float)\n",
    "    l_returns = pd.DataFrame(l_returns).T.astype(float)\n",
    "    \n",
    "    \n",
    "    return i_returns, l_returns"
   ]
  },
  {
   "cell_type": "code",
   "execution_count": null,
   "id": "fdf519ea-ee40-49ef-a13b-48fea9c451de",
   "metadata": {},
   "outputs": [
    {
     "data": {
      "application/vnd.jupyter.widget-view+json": {
       "model_id": "7b6d841d97d64f41a357bca92663bf85",
       "version_major": 2,
       "version_minor": 0
      },
      "text/plain": [
       "  0%|          | 0/2748 [00:00<?, ?it/s]"
      ]
     },
     "metadata": {},
     "output_type": "display_data"
    },
    {
     "data": {
      "text/html": [
       "<div>\n",
       "<style scoped>\n",
       "    .dataframe tbody tr th:only-of-type {\n",
       "        vertical-align: middle;\n",
       "    }\n",
       "\n",
       "    .dataframe tbody tr th {\n",
       "        vertical-align: top;\n",
       "    }\n",
       "\n",
       "    .dataframe thead th {\n",
       "        text-align: right;\n",
       "    }\n",
       "</style>\n",
       "<table border=\"1\" class=\"dataframe\">\n",
       "  <thead>\n",
       "    <tr style=\"text-align: right;\">\n",
       "      <th></th>\n",
       "      <th>RET_216</th>\n",
       "      <th>RET_238</th>\n",
       "      <th>RET_45</th>\n",
       "      <th>RET_295</th>\n",
       "      <th>RET_230</th>\n",
       "      <th>RET_120</th>\n",
       "      <th>RET_188</th>\n",
       "      <th>RET_260</th>\n",
       "      <th>RET_15</th>\n",
       "      <th>RET_150</th>\n",
       "      <th>...</th>\n",
       "      <th>RET_108</th>\n",
       "      <th>RET_122</th>\n",
       "      <th>RET_194</th>\n",
       "      <th>RET_72</th>\n",
       "      <th>RET_293</th>\n",
       "      <th>RET_281</th>\n",
       "      <th>RET_193</th>\n",
       "      <th>RET_95</th>\n",
       "      <th>RET_162</th>\n",
       "      <th>RET_297</th>\n",
       "    </tr>\n",
       "  </thead>\n",
       "  <tbody>\n",
       "    <tr>\n",
       "      <th>3316</th>\n",
       "      <td>0.004024</td>\n",
       "      <td>0.009237</td>\n",
       "      <td>0.004967</td>\n",
       "      <td>NaN</td>\n",
       "      <td>0.017040</td>\n",
       "      <td>0.013885</td>\n",
       "      <td>0.041885</td>\n",
       "      <td>0.015207</td>\n",
       "      <td>-0.003143</td>\n",
       "      <td>0.018565</td>\n",
       "      <td>...</td>\n",
       "      <td>0.027374</td>\n",
       "      <td>0.007596</td>\n",
       "      <td>0.015010</td>\n",
       "      <td>0.014733</td>\n",
       "      <td>-0.000476</td>\n",
       "      <td>0.006539</td>\n",
       "      <td>-0.010233</td>\n",
       "      <td>0.001251</td>\n",
       "      <td>-0.003102</td>\n",
       "      <td>-0.094847</td>\n",
       "    </tr>\n",
       "    <tr>\n",
       "      <th>3355</th>\n",
       "      <td>0.025848</td>\n",
       "      <td>-0.002109</td>\n",
       "      <td>-0.021802</td>\n",
       "      <td>0.040229</td>\n",
       "      <td>0.015093</td>\n",
       "      <td>-0.015498</td>\n",
       "      <td>0.011188</td>\n",
       "      <td>0.011622</td>\n",
       "      <td>0.016624</td>\n",
       "      <td>0.041997</td>\n",
       "      <td>...</td>\n",
       "      <td>-0.007413</td>\n",
       "      <td>0.001506</td>\n",
       "      <td>0.003077</td>\n",
       "      <td>-0.002341</td>\n",
       "      <td>0.061228</td>\n",
       "      <td>0.005301</td>\n",
       "      <td>0.008942</td>\n",
       "      <td>-0.010232</td>\n",
       "      <td>0.005529</td>\n",
       "      <td>0.006545</td>\n",
       "    </tr>\n",
       "    <tr>\n",
       "      <th>1662</th>\n",
       "      <td>-0.012267</td>\n",
       "      <td>0.007461</td>\n",
       "      <td>0.051311</td>\n",
       "      <td>0.105340</td>\n",
       "      <td>-0.006361</td>\n",
       "      <td>0.004964</td>\n",
       "      <td>0.011933</td>\n",
       "      <td>0.018921</td>\n",
       "      <td>-0.035044</td>\n",
       "      <td>0.044667</td>\n",
       "      <td>...</td>\n",
       "      <td>0.005593</td>\n",
       "      <td>0.009226</td>\n",
       "      <td>0.032670</td>\n",
       "      <td>-0.000716</td>\n",
       "      <td>0.008429</td>\n",
       "      <td>-0.002871</td>\n",
       "      <td>0.009932</td>\n",
       "      <td>0.023721</td>\n",
       "      <td>0.009349</td>\n",
       "      <td>0.033554</td>\n",
       "    </tr>\n",
       "    <tr>\n",
       "      <th>3405</th>\n",
       "      <td>-0.033598</td>\n",
       "      <td>-0.003446</td>\n",
       "      <td>-0.009100</td>\n",
       "      <td>0.016753</td>\n",
       "      <td>-0.016952</td>\n",
       "      <td>-0.008924</td>\n",
       "      <td>-0.010984</td>\n",
       "      <td>0.001948</td>\n",
       "      <td>-0.034591</td>\n",
       "      <td>-0.029038</td>\n",
       "      <td>...</td>\n",
       "      <td>0.002788</td>\n",
       "      <td>0.001551</td>\n",
       "      <td>-0.008077</td>\n",
       "      <td>0.009507</td>\n",
       "      <td>-0.008005</td>\n",
       "      <td>-0.016593</td>\n",
       "      <td>-0.007481</td>\n",
       "      <td>-0.024835</td>\n",
       "      <td>0.004360</td>\n",
       "      <td>0.031087</td>\n",
       "    </tr>\n",
       "    <tr>\n",
       "      <th>1602</th>\n",
       "      <td>0.029170</td>\n",
       "      <td>-0.084293</td>\n",
       "      <td>0.000325</td>\n",
       "      <td>0.021458</td>\n",
       "      <td>-0.018345</td>\n",
       "      <td>-0.012230</td>\n",
       "      <td>-0.001818</td>\n",
       "      <td>0.000842</td>\n",
       "      <td>0.003885</td>\n",
       "      <td>0.007138</td>\n",
       "      <td>...</td>\n",
       "      <td>-0.031061</td>\n",
       "      <td>-0.012181</td>\n",
       "      <td>0.002507</td>\n",
       "      <td>0.004408</td>\n",
       "      <td>-0.022913</td>\n",
       "      <td>-0.010133</td>\n",
       "      <td>-0.006468</td>\n",
       "      <td>-0.025205</td>\n",
       "      <td>-0.001612</td>\n",
       "      <td>-0.056735</td>\n",
       "    </tr>\n",
       "  </tbody>\n",
       "</table>\n",
       "<p>5 rows × 100 columns</p>\n",
       "</div>"
      ],
      "text/plain": [
       "       RET_216   RET_238    RET_45   RET_295   RET_230   RET_120   RET_188  \\\n",
       "3316  0.004024  0.009237  0.004967       NaN  0.017040  0.013885  0.041885   \n",
       "3355  0.025848 -0.002109 -0.021802  0.040229  0.015093 -0.015498  0.011188   \n",
       "1662 -0.012267  0.007461  0.051311  0.105340 -0.006361  0.004964  0.011933   \n",
       "3405 -0.033598 -0.003446 -0.009100  0.016753 -0.016952 -0.008924 -0.010984   \n",
       "1602  0.029170 -0.084293  0.000325  0.021458 -0.018345 -0.012230 -0.001818   \n",
       "\n",
       "       RET_260    RET_15   RET_150  ...   RET_108   RET_122   RET_194  \\\n",
       "3316  0.015207 -0.003143  0.018565  ...  0.027374  0.007596  0.015010   \n",
       "3355  0.011622  0.016624  0.041997  ... -0.007413  0.001506  0.003077   \n",
       "1662  0.018921 -0.035044  0.044667  ...  0.005593  0.009226  0.032670   \n",
       "3405  0.001948 -0.034591 -0.029038  ...  0.002788  0.001551 -0.008077   \n",
       "1602  0.000842  0.003885  0.007138  ... -0.031061 -0.012181  0.002507   \n",
       "\n",
       "        RET_72   RET_293   RET_281   RET_193    RET_95   RET_162   RET_297  \n",
       "3316  0.014733 -0.000476  0.006539 -0.010233  0.001251 -0.003102 -0.094847  \n",
       "3355 -0.002341  0.061228  0.005301  0.008942 -0.010232  0.005529  0.006545  \n",
       "1662 -0.000716  0.008429 -0.002871  0.009932  0.023721  0.009349  0.033554  \n",
       "3405  0.009507 -0.008005 -0.016593 -0.007481 -0.024835  0.004360  0.031087  \n",
       "1602  0.004408 -0.022913 -0.010133 -0.006468 -0.025205 -0.001612 -0.056735  \n",
       "\n",
       "[5 rows x 100 columns]"
      ]
     },
     "execution_count": 40,
     "metadata": {},
     "output_type": "execute_result"
    }
   ],
   "source": [
    "i_returns,l_returns=daily_returns(X_train,y_train)\n",
    "i_returns.head()"
   ]
  },
  {
   "cell_type": "markdown",
   "id": "3006587b-8ffe-40da-8025-b1f69e79361b",
   "metadata": {
    "tags": []
   },
   "source": [
    "### Utilisation des données supplémentaires"
   ]
  },
  {
   "cell_type": "code",
   "execution_count": 90,
   "id": "e02d3907-1253-4fc5-971a-566fbaa924c5",
   "metadata": {},
   "outputs": [
    {
     "data": {
      "application/vnd.jupyter.widget-view+json": {
       "model_id": "eb27d412b6c043f2b1461987818e2141",
       "version_major": 2,
       "version_minor": 0
      },
      "text/plain": [
       "0it [00:00, ?it/s]"
      ]
     },
     "metadata": {},
     "output_type": "display_data"
    },
    {
     "data": {
      "text/html": [
       "<div>\n",
       "<style scoped>\n",
       "    .dataframe tbody tr th:only-of-type {\n",
       "        vertical-align: middle;\n",
       "    }\n",
       "\n",
       "    .dataframe tbody tr th {\n",
       "        vertical-align: top;\n",
       "    }\n",
       "\n",
       "    .dataframe thead th {\n",
       "        text-align: right;\n",
       "    }\n",
       "</style>\n",
       "<table border=\"1\" class=\"dataframe\">\n",
       "  <thead>\n",
       "    <tr style=\"text-align: right;\">\n",
       "      <th></th>\n",
       "      <th>RET_216</th>\n",
       "      <th>RET_238</th>\n",
       "      <th>RET_45</th>\n",
       "      <th>RET_295</th>\n",
       "      <th>RET_230</th>\n",
       "      <th>RET_120</th>\n",
       "      <th>RET_188</th>\n",
       "      <th>RET_260</th>\n",
       "      <th>RET_15</th>\n",
       "      <th>RET_150</th>\n",
       "      <th>...</th>\n",
       "      <th>RET_19</th>\n",
       "      <th>RET_28</th>\n",
       "      <th>RET_251</th>\n",
       "      <th>RET_278</th>\n",
       "      <th>RET_76</th>\n",
       "      <th>RET_241</th>\n",
       "      <th>RET_214</th>\n",
       "      <th>RET_102</th>\n",
       "      <th>RET_145</th>\n",
       "      <th>RET_155</th>\n",
       "    </tr>\n",
       "  </thead>\n",
       "  <tbody>\n",
       "    <tr>\n",
       "      <th>0</th>\n",
       "      <td>0.055556</td>\n",
       "      <td>0.054054</td>\n",
       "      <td>0.050000</td>\n",
       "      <td>0.063291</td>\n",
       "      <td>0.044944</td>\n",
       "      <td>0.040816</td>\n",
       "      <td>0.063291</td>\n",
       "      <td>0.055556</td>\n",
       "      <td>0.064103</td>\n",
       "      <td>0.055944</td>\n",
       "      <td>...</td>\n",
       "      <td>0.058824</td>\n",
       "      <td>0.083333</td>\n",
       "      <td>0.037037</td>\n",
       "      <td>0.047619</td>\n",
       "      <td>0.052632</td>\n",
       "      <td>0.037975</td>\n",
       "      <td>0.051282</td>\n",
       "      <td>0.052632</td>\n",
       "      <td>0.055556</td>\n",
       "      <td>0.08</td>\n",
       "    </tr>\n",
       "    <tr>\n",
       "      <th>1</th>\n",
       "      <td>0.055556</td>\n",
       "      <td>0.054054</td>\n",
       "      <td>0.083333</td>\n",
       "      <td>0.139241</td>\n",
       "      <td>0.112360</td>\n",
       "      <td>0.081633</td>\n",
       "      <td>0.139241</td>\n",
       "      <td>0.055556</td>\n",
       "      <td>0.141026</td>\n",
       "      <td>0.139860</td>\n",
       "      <td>...</td>\n",
       "      <td>0.058824</td>\n",
       "      <td>0.083333</td>\n",
       "      <td>0.074074</td>\n",
       "      <td>0.095238</td>\n",
       "      <td>0.052632</td>\n",
       "      <td>0.101266</td>\n",
       "      <td>0.051282</td>\n",
       "      <td>0.052632</td>\n",
       "      <td>0.055556</td>\n",
       "      <td>0.08</td>\n",
       "    </tr>\n",
       "    <tr>\n",
       "      <th>2</th>\n",
       "      <td>0.333333</td>\n",
       "      <td>0.324324</td>\n",
       "      <td>0.333333</td>\n",
       "      <td>0.310127</td>\n",
       "      <td>0.314607</td>\n",
       "      <td>0.346939</td>\n",
       "      <td>0.310127</td>\n",
       "      <td>0.333333</td>\n",
       "      <td>0.314103</td>\n",
       "      <td>0.314685</td>\n",
       "      <td>...</td>\n",
       "      <td>0.294118</td>\n",
       "      <td>0.250000</td>\n",
       "      <td>0.333333</td>\n",
       "      <td>0.333333</td>\n",
       "      <td>0.263158</td>\n",
       "      <td>0.329114</td>\n",
       "      <td>0.333333</td>\n",
       "      <td>0.263158</td>\n",
       "      <td>0.333333</td>\n",
       "      <td>0.28</td>\n",
       "    </tr>\n",
       "    <tr>\n",
       "      <th>3</th>\n",
       "      <td>0.555556</td>\n",
       "      <td>0.567568</td>\n",
       "      <td>0.533333</td>\n",
       "      <td>0.487342</td>\n",
       "      <td>0.528090</td>\n",
       "      <td>0.530612</td>\n",
       "      <td>0.487342</td>\n",
       "      <td>0.555556</td>\n",
       "      <td>0.480769</td>\n",
       "      <td>0.489510</td>\n",
       "      <td>...</td>\n",
       "      <td>0.588235</td>\n",
       "      <td>0.583333</td>\n",
       "      <td>0.555556</td>\n",
       "      <td>0.523810</td>\n",
       "      <td>0.631579</td>\n",
       "      <td>0.531646</td>\n",
       "      <td>0.564103</td>\n",
       "      <td>0.631579</td>\n",
       "      <td>0.555556</td>\n",
       "      <td>0.56</td>\n",
       "    </tr>\n",
       "  </tbody>\n",
       "</table>\n",
       "<p>4 rows × 200 columns</p>\n",
       "</div>"
      ],
      "text/plain": [
       "    RET_216   RET_238    RET_45   RET_295   RET_230   RET_120   RET_188  \\\n",
       "0  0.055556  0.054054  0.050000  0.063291  0.044944  0.040816  0.063291   \n",
       "1  0.055556  0.054054  0.083333  0.139241  0.112360  0.081633  0.139241   \n",
       "2  0.333333  0.324324  0.333333  0.310127  0.314607  0.346939  0.310127   \n",
       "3  0.555556  0.567568  0.533333  0.487342  0.528090  0.530612  0.487342   \n",
       "\n",
       "    RET_260    RET_15   RET_150  ...    RET_19    RET_28   RET_251   RET_278  \\\n",
       "0  0.055556  0.064103  0.055944  ...  0.058824  0.083333  0.037037  0.047619   \n",
       "1  0.055556  0.141026  0.139860  ...  0.058824  0.083333  0.074074  0.095238   \n",
       "2  0.333333  0.314103  0.314685  ...  0.294118  0.250000  0.333333  0.333333   \n",
       "3  0.555556  0.480769  0.489510  ...  0.588235  0.583333  0.555556  0.523810   \n",
       "\n",
       "     RET_76   RET_241   RET_214   RET_102   RET_145  RET_155  \n",
       "0  0.052632  0.037975  0.051282  0.052632  0.055556     0.08  \n",
       "1  0.052632  0.101266  0.051282  0.052632  0.055556     0.08  \n",
       "2  0.263158  0.329114  0.333333  0.263158  0.333333     0.28  \n",
       "3  0.631579  0.531646  0.564103  0.631579  0.555556     0.56  \n",
       "\n",
       "[4 rows x 200 columns]"
      ]
     },
     "execution_count": 90,
     "metadata": {},
     "output_type": "execute_result"
    }
   ],
   "source": [
    "assets_coefs = {}\n",
    "for idx, row in tqdm(supp_data.iterrows()):\n",
    "    if row.iloc[1:].sum() == 0:\n",
    "        assets_coefs['RET_'+ str(row.ID_asset)] = np.zeros(4, dtype = float)\n",
    "    else:  \n",
    "        lst_classes = (row.iloc[1:]).to_numpy()/(row.iloc[1:].sum())\n",
    "        assets_coefs['RET_'+ str(row.ID_asset)] = lst_classes\n",
    "assets_coefs = pd.DataFrame(assets_coefs).astype(float)\n",
    "assets_coefs"
   ]
  },
  {
   "cell_type": "markdown",
   "id": "543fc4c2-57a0-4bff-9afe-b4b3d514112e",
   "metadata": {
    "jp-MarkdownHeadingCollapsed": true,
    "tags": []
   },
   "source": [
    "## 4. Analyse des données "
   ]
  },
  {
   "cell_type": "markdown",
   "id": "029091d2-e266-41c2-86ee-8f7439488c14",
   "metadata": {},
   "source": [
    "### Densité des valeurs d'un actif"
   ]
  },
  {
   "cell_type": "code",
   "execution_count": 91,
   "id": "e3f51c64-7daf-4ee1-81af-07e909bc2f76",
   "metadata": {},
   "outputs": [
    {
     "name": "stderr",
     "output_type": "stream",
     "text": [
      "/opt/conda/lib/python3.7/site-packages/seaborn/distributions.py:2619: FutureWarning: `distplot` is a deprecated function and will be removed in a future version. Please adapt your code to use either `displot` (a figure-level function with similar flexibility) or `histplot` (an axes-level function for histograms).\n",
      "  warnings.warn(msg, FutureWarning)\n"
     ]
    },
    {
     "data": {
      "text/plain": [
       "<AxesSubplot:xlabel='RET_130', ylabel='Density'>"
      ]
     },
     "execution_count": 91,
     "metadata": {},
     "output_type": "execute_result"
    },
    {
     "data": {
      "image/png": "[encoded data removed]",
      "text/plain": [
       "<Figure size 432x288 with 1 Axes>"
      ]
     },
     "metadata": {
      "needs_background": "light"
     },
     "output_type": "display_data"
    }
   ],
   "source": [
    "sns.distplot(l_returns['RET_130'], hist=True, kde=True, \n",
    "             bins=int(180/5), color = 'darkblue', \n",
    "             hist_kws={'edgecolor':'black'},\n",
    "             kde_kws={'linewidth': 4})"
   ]
  },
  {
   "cell_type": "markdown",
   "id": "672d6910-bbf8-4e18-8903-39999dc0a394",
   "metadata": {},
   "source": [
    "### Matrice de correlation"
   ]
  },
  {
   "cell_type": "code",
   "execution_count": 92,
   "id": "59ee9b81-2bd5-42cc-a0c9-944b71925062",
   "metadata": {},
   "outputs": [
    {
     "data": {
      "image/png": "[encoded data removed]",
      "text/plain": [
       "<Figure size 288x288 with 1 Axes>"
      ]
     },
     "metadata": {
      "needs_background": "light"
     },
     "output_type": "display_data"
    }
   ],
   "source": [
    "corr_df = X_train.corr()\n",
    "#print(corr_df, \"\\n\")\n",
    "corr_df = X_train.corr(method='pearson')\n",
    "plt.matshow(corr_df)\n",
    "plt.show()"
   ]
  },
  {
   "cell_type": "markdown",
   "id": "2ec305b2-4ac9-49b3-b6c3-a2877ca70694",
   "metadata": {},
   "source": [
    "### Valeurs manquantes par actif"
   ]
  },
  {
   "cell_type": "code",
   "execution_count": 93,
   "id": "4b832499-2048-4cfa-9636-0bcd056d3db3",
   "metadata": {},
   "outputs": [
    {
     "data": {
      "image/png": "[encoded data removed]",
      "text/plain": [
       "<Figure size 1080x360 with 1 Axes>"
      ]
     },
     "metadata": {
      "needs_background": "light"
     },
     "output_type": "display_data"
    }
   ],
   "source": [
    "plt.figure(figsize=(15, 5))\n",
    "X_train_modified=X_train.drop('ID_DAY',axis=1)\n",
    "X_train_modified=X_train.drop('ID_TARGET',axis=1)\n",
    "(X_train_modified.isna().sum() / len(X_train_modified)).plot(label='train', use_index=False)\n",
    "#(X_test.isna().sum() / len(X_test)).plot(label='test', use_index=False)\n",
    "plt.xticks(np.arange(101), X_train_modified.columns, rotation=90)\n",
    "plt.ylabel('Pourcentage')\n",
    "plt.title(\"Pourcentage de NaN pour chaque actif\")\n",
    "plt.legend()\n",
    "plt.show()"
   ]
  },
  {
   "cell_type": "markdown",
   "id": "a3af9e3c-5534-4ba2-ac1d-6f6b2d75c289",
   "metadata": {},
   "source": [
    "Exemple de selection de features : cas d'un Random Forest Classifier\n"
   ]
  },
  {
   "cell_type": "markdown",
   "id": "d1c304b3-4f0f-4905-b009-d65506f06d71",
   "metadata": {},
   "source": [
    "### Importance des features pour un RandomForestClassifier\n"
   ]
  },
  {
   "cell_type": "code",
   "execution_count": 94,
   "id": "e83e7f7f-89b1-45f6-acde-0975ae34a98c",
   "metadata": {},
   "outputs": [
    {
     "name": "stderr",
     "output_type": "stream",
     "text": [
      "/opt/conda/lib/python3.7/site-packages/ipykernel_launcher.py:14: DataConversionWarning: A column-vector y was passed when a 1d array was expected. Please change the shape of y to (n_samples,), for example using ravel().\n",
      "  \n"
     ]
    },
    {
     "data": {
      "text/plain": [
       "<AxesSubplot:>"
      ]
     },
     "execution_count": 94,
     "metadata": {},
     "output_type": "execute_result"
    },
    {
     "data": {
      "image/png": "[encoded data removed]",
      "text/plain": [
       "<Figure size 432x288 with 1 Axes>"
      ]
     },
     "metadata": {
      "needs_background": "light"
     },
     "output_type": "display_data"
    }
   ],
   "source": [
    "model = RandomForestClassifier()\n",
    "X_model = pd.read_csv(\"X_train.csv\",index_col=0)\n",
    "\n",
    "Y_model = pd.read_csv(\"y_train.csv\",index_col=0)\n",
    "\n",
    "X_model.fillna(0,inplace=True)\n",
    "\n",
    "X_model.drop('ID_TARGET',inplace=True,axis=1)\n",
    "\n",
    "Y_model.fillna(0,inplace=True)\n",
    "\n",
    "Y_model['RET_TARGET_CLASS'] = np.where(Y_model['RET_TARGET']>0, 1, -1)\n",
    "Y_model.drop('RET_TARGET',axis=1,inplace=True)\n",
    "model.fit(X_model, Y_model)\n",
    "\n",
    "\n",
    "(pd.Series(model.feature_importances_, index=X_model.columns)\n",
    "   .nlargest(15)\n",
    "   .plot(kind='barh')) "
   ]
  },
  {
   "cell_type": "markdown",
   "id": "22516b0f-40a4-488d-b495-3cc591ad1273",
   "metadata": {
    "jp-MarkdownHeadingCollapsed": true,
    "tags": []
   },
   "source": [
    "## 5. Gestion des valeurs manquantes en effectuant un traitement par ligne"
   ]
  },
  {
   "cell_type": "markdown",
   "id": "17ff0069-7587-4fa7-807b-0627d6d470f2",
   "metadata": {
    "jp-MarkdownHeadingCollapsed": true,
    "tags": []
   },
   "source": [
    "### Fonction remplaçant les valeurs manquantes en moyennant par rapport au catégorie d'actifs relativement aux valeurs journalières"
   ]
  },
  {
   "cell_type": "code",
   "execution_count": 95,
   "id": "dd3adb90-892b-4f5d-a252-55c4ae8a28a0",
   "metadata": {},
   "outputs": [],
   "source": [
    "def prepro(df):\n",
    "    imputed_df = df.copy()\n",
    "    for idx, row in tqdm(df.iterrows()):\n",
    "        non_na_pos = np.where(pd.notna(row))[0]\n",
    "        non_na_names = df.columns[non_na_pos]\n",
    "        N = np.array([(assets_coefs[non_na_names].iloc[i, :]).sum() for i in range(4)])\n",
    "        values = row[non_na_pos].to_numpy()\n",
    "        W = np.array([(assets_coefs[non_na_names].iloc[i, :].to_numpy() * values).sum() for i in range(4)])/N\n",
    "        for j in range(len(row)):\n",
    "            if pd.isna(row[j]):\n",
    "                asset_name = df.columns[j]\n",
    "                p = np.array(assets_coefs[asset_name])\n",
    "                V = (W*p).sum()\n",
    "                imputed_df.loc[idx, asset_name] = V\n",
    "    return imputed_df"
   ]
  },
  {
   "cell_type": "markdown",
   "id": "afc2c89f-d3b2-4cbd-94fe-2f7a1fa2092a",
   "metadata": {
    "tags": []
   },
   "source": [
    "### Fonction preprocess supprimant les lignes où il existe des valeurs d'actifs manquants"
   ]
  },
  {
   "cell_type": "code",
   "execution_count": 96,
   "id": "904e1085-ae81-4d0c-8c5c-99640c0d8933",
   "metadata": {},
   "outputs": [],
   "source": [
    "def prepro_supp(df):\n",
    "    #imputed_df['suppr']=0\n",
    "    #imputed_df=imputed_df.loc[:, 'suppr'] = 0\n",
    "    imputed_df = df.copy()\n",
    "    imputed_df.insert(0, 'suppr', 0)\n",
    "    for idx, row in tqdm(imputed_df.iterrows()):\n",
    "        na_pos = np.where(pd.isna(row))[0]\n",
    "        if len(na_pos)==0:\n",
    "         imputed_df.loc[idx,'suppr']=1        \n",
    "    return imputed_df   "
   ]
  },
  {
   "cell_type": "markdown",
   "id": "ef4d8231-7c78-41b2-8c5b-b953e1253ac1",
   "metadata": {
    "jp-MarkdownHeadingCollapsed": true,
    "tags": []
   },
   "source": [
    "## 6. Algorithmes de prédiction"
   ]
  },
  {
   "cell_type": "markdown",
   "id": "3c4a923b-9b5a-41c2-b2bf-f437819e78a0",
   "metadata": {
    "jp-MarkdownHeadingCollapsed": true,
    "tags": []
   },
   "source": [
    "### Lasso"
   ]
  },
  {
   "cell_type": "code",
   "execution_count": 102,
   "id": "fbe21f93-37e0-4274-ba67-1fe606bd8eba",
   "metadata": {},
   "outputs": [],
   "source": [
    "def lasso(X_train, y_train, X_to_predict, alpha, n_clusters, preprocess_mode):\n",
    "    i_returns, l_returns = daily_returns(X_train, y_train)\n",
    "    prediction=pd.DataFrame()\n",
    "    listecolonnes=[]\n",
    "    if preprocess_mode == 'avg_column':\n",
    "        \n",
    "        my_imputer_i = SimpleImputer()\n",
    "        illiquid_returns = pd.DataFrame(my_imputer_i.fit_transform(i_returns))\n",
    "        illiquid_returns.columns = i_returns.columns\n",
    "        \n",
    "        my_imputer_l = SimpleImputer()\n",
    "        liquid_returns = pd.DataFrame(my_imputer_l.fit_transform(l_returns))\n",
    "        liquid_returns.columns = l_returns.columns\n",
    "        \n",
    "        kmeans = KMeans(n_clusters=n_clusters, n_init=1, init='k-means++').fit(liquid_returns.T)\n",
    "        groupes = kmeans.predict(liquid_returns.T)\n",
    "        #print(groupes)\n",
    "        \n",
    "    elif preprocess_mode == 'avg_line':\n",
    "        \n",
    "        illiquid_returns = prepro(i_returns)\n",
    "        liquid_returns = prepro(l_returns)\n",
    "        \n",
    "        kmeans = KMeans(n_clusters=n_clusters, n_init=1, init='k-means++').fit(liquid_returns.T)\n",
    "        groupes = kmeans.predict(liquid_returns.T)\n",
    "        \n",
    "        \n",
    "    for i in range(n_clusters):\n",
    "        y_test_g=liquid_returns.iloc[:,np.where(groupes==i)[0]]\n",
    "        model=linear_model.Lasso(alpha)\n",
    "        #lasso = Lasso(random_state=0, max_iter=10000)\n",
    "        model.fit(illiquid_returns, y_test_g)\n",
    "        idx_ret_features = np.where(X_to_predict.columns.str.contains('RET'))[0]\n",
    "        returns_to_predict = {}\n",
    "        for day in tqdm(X_to_predict.ID_DAY.unique()):\n",
    "            u = X_to_predict.loc[X_to_predict.ID_DAY == day]\n",
    "            a = u.iloc[0, idx_ret_features]\n",
    "            returns_to_predict[day] = a\n",
    "        returns_to_predict = pd.DataFrame(returns_to_predict).T.astype(float)\n",
    "\n",
    "        if preprocess_mode == 'avg_column':\n",
    "            my_imputer = SimpleImputer()\n",
    "            imputed_returns_to_predict = pd.DataFrame(my_imputer.fit_transform(returns_to_predict))\n",
    "            imputed_returns_to_predict.columns = returns_to_predict.columns\n",
    "\n",
    "        elif preprocess_mode == 'avg_line':\n",
    "            imputed_returns_to_predict = prepro(returns_to_predict)\n",
    "            \n",
    "        elif preprocess_mode == 'supp_line':\n",
    "            imputed_returns_to_predict = prepro(returns_to_predict)\n",
    "            \n",
    "        prediction_n=pd.DataFrame(model.predict(imputed_returns_to_predict))\n",
    "        prediction_n.columns=y_test_g.columns\n",
    "        listecolonnes=listecolonnes+y_test_g.columns.values.tolist()\n",
    "        prediction = pd.concat([prediction,prediction_n],axis=1)\n",
    "    \n",
    "    returns_predicted = {}\n",
    "    day_list = []\n",
    "    k = 0\n",
    "    for day in tqdm(X_to_predict.ID_DAY.unique()):\n",
    "        c=pd.Series(prediction.iloc[k,:])\n",
    "        c.index = listecolonnes\n",
    "        returns_predicted[day] = c\n",
    "        day_list.append(day)\n",
    "        k+=1\n",
    "        \n",
    "    returns_predicted = pd.DataFrame(returns_predicted).T.astype(float)\n",
    "    \n",
    "    y_pred = {}   \n",
    "    for idx, row in tqdm(X_to_predict.iterrows()):\n",
    "        day = int(row.ID_DAY)\n",
    "        num_day = day_list.index(day)\n",
    "        num_ret = int(row.ID_TARGET)\n",
    "        str_ret = 'RET_' + str(num_ret)\n",
    "        y_pred[idx] = (returns_predicted[str_ret].iloc[num_day])\n",
    "        \n",
    "    y_pred = pd.Series(y_pred, name=\"RET_TARGET\")\n",
    "    \n",
    "    return np.sign(y_pred)"
   ]
  },
  {
   "cell_type": "markdown",
   "id": "62b701c3-4a96-4fa9-8591-043135876e2b",
   "metadata": {
    "jp-MarkdownHeadingCollapsed": true,
    "tags": []
   },
   "source": [
    "### Random Forest avec Randomized Grid Search"
   ]
  },
  {
   "cell_type": "code",
   "execution_count": 103,
   "id": "7a825827-9d94-4d98-b62c-04e0d9f2f710",
   "metadata": {},
   "outputs": [],
   "source": [
    "# Paramètres de la grille\n",
    "\n",
    "random_grid = {\n",
    "    'n_estimators': randint(4,200),\n",
    "    'max_features': truncnorm(a=0, b=1, loc=0.25, scale=0.1),\n",
    "    'min_samples_split': uniform(0.01, 0.199)\n",
    "}"
   ]
  },
  {
   "cell_type": "code",
   "execution_count": 104,
   "id": "fb001dd9-1186-4e20-b145-ba4aec3e5e6a",
   "metadata": {},
   "outputs": [],
   "source": [
    "def rfgridsearch(X_train, y_train, X_to_predict, n_clusters, preprocess_mode):\n",
    "    i_returns, l_returns = daily_returns(X_train, y_train)\n",
    "    prediction=pd.DataFrame()\n",
    "    listecolonnes=[]\n",
    "    if preprocess_mode == 'avg_column':\n",
    "        \n",
    "        my_imputer_i = SimpleImputer()\n",
    "        illiquid_returns = pd.DataFrame(my_imputer_i.fit_transform(i_returns))\n",
    "        illiquid_returns.columns = i_returns.columns\n",
    "        \n",
    "        my_imputer_l = SimpleImputer()\n",
    "        liquid_returns = pd.DataFrame(my_imputer_l.fit_transform(l_returns))\n",
    "        liquid_returns.columns = l_returns.columns\n",
    "        \n",
    "        kmeans = KMeans(n_clusters=n_clusters, n_init=1, init='k-means++').fit(liquid_returns.T)\n",
    "        groupes = kmeans.predict(liquid_returns.T)\n",
    "\n",
    "    elif preprocess_mode == 'avg_line':\n",
    "        \n",
    "        illiquid_returns = prepro(i_returns)\n",
    "        liquid_returns = prepro(l_returns)\n",
    "        #illiquid_returns['suppr']=liquid_returns['suppr']\n",
    "        #illiquid_returns=illiquid_returns[illiquid_returns['suppr']==0]\n",
    "        #liquid_returns=liquid_returns[liquid_returns['suppr']==0]\n",
    "        #liquid_returns=liquid_returns.drop(['suppr'],axis=1)\n",
    "        #illiquid_returns=illiquid_returns.drop(['suppr'],axis=1)\n",
    "        #liquid_returns=(liquid_returns-liquid_returns.mean())/(liquid_returns.std())\n",
    "        #illiquid_returns=(illiquid_returns-illiquid_returns.mean())/(illiquid_returns.std())\n",
    "        kmeans = KMeans(n_clusters=n_clusters, n_init=1, init='k-means++').fit(liquid_returns.T)\n",
    "        groupes = kmeans.predict(liquid_returns.T)\n",
    "        \n",
    "    for i in range(n_clusters):\n",
    "        y_test_g=liquid_returns.iloc[:,np.where(groupes==i)[0]]\n",
    "        rf = RandomForestRegressor()\n",
    "        n_folds = 3\n",
    "        #model = GridSearchCV(rf, random_grid, cv=n_folds, n_iter=2, refit=False)\n",
    "        model = RandomizedSearchCV(rf, random_grid, cv=n_folds, n_iter=50)\n",
    "        model.fit(illiquid_returns, y_test_g)\n",
    "        print(model.best_params_)\n",
    "        \n",
    "        idx_ret_features = np.where(X_to_predict.columns.str.contains('RET'))[0]\n",
    "        returns_to_predict = {}\n",
    "        for day in tqdm(X_to_predict.ID_DAY.unique()):\n",
    "            u = X_to_predict.loc[X_to_predict.ID_DAY == day]\n",
    "            a = u.iloc[0, idx_ret_features]\n",
    "            returns_to_predict[day] = a\n",
    "        returns_to_predict = pd.DataFrame(returns_to_predict).T.astype(float)\n",
    "\n",
    "        if preprocess_mode == 'avg_column':\n",
    "            my_imputer = SimpleImputer()\n",
    "            imputed_returns_to_predict = pd.DataFrame(my_imputer.fit_transform(returns_to_predict))\n",
    "            imputed_returns_to_predict.columns = returns_to_predict.columns\n",
    "\n",
    "        elif preprocess_mode == 'avg_line':\n",
    "            imputed_returns_to_predict = prepro(returns_to_predict)\n",
    "        prediction_n=pd.DataFrame(model.predict(imputed_returns_to_predict))\n",
    "        prediction_n.columns=y_test_g.columns\n",
    "        listecolonnes=listecolonnes+y_test_g.columns.values.tolist()\n",
    "        prediction = pd.concat([prediction,prediction_n],axis=1)\n",
    "    \n",
    "    returns_predicted = {}\n",
    "    day_list = []\n",
    "    k = 0\n",
    "    for day in tqdm(X_to_predict.ID_DAY.unique()):\n",
    "        c=pd.Series(prediction.iloc[k,:])\n",
    "        c.index = listecolonnes\n",
    "        returns_predicted[day] = c\n",
    "        day_list.append(day)\n",
    "        k+=1\n",
    "        \n",
    "    returns_predicted = pd.DataFrame(returns_predicted).T.astype(float)\n",
    "    \n",
    "    y_pred = {}   \n",
    "    for idx, row in tqdm(X_to_predict.iterrows()):\n",
    "        day = int(row.ID_DAY)\n",
    "        num_day = day_list.index(day)\n",
    "        num_ret = int(row.ID_TARGET)\n",
    "        str_ret = 'RET_' + str(num_ret)\n",
    "        y_pred[idx] = (returns_predicted[str_ret].iloc[num_day])\n",
    "        \n",
    "    y_pred = pd.Series(y_pred, name=\"RET_TARGET\")\n",
    "    \n",
    "    return np.sign(y_pred)"
   ]
  },
  {
   "cell_type": "markdown",
   "id": "6217928a-12af-4851-bf45-f3b2dd715c69",
   "metadata": {
    "jp-MarkdownHeadingCollapsed": true,
    "tags": []
   },
   "source": [
    "### Régresion de processus gaussien"
   ]
  },
  {
   "cell_type": "code",
   "execution_count": 105,
   "id": "dc2c5b3c-f0a8-444f-9125-b94e46ab3ece",
   "metadata": {},
   "outputs": [],
   "source": [
    "def gauss(X_train, y_train, X_to_predict, n_clusters, preprocess_mode):\n",
    "    i_returns, l_returns = daily_returns(X_train, y_train)\n",
    "    prediction=pd.DataFrame()\n",
    "    listecolonnes=[]\n",
    "    if preprocess_mode == 'avg_column':\n",
    "        \n",
    "        my_imputer_i = SimpleImputer()\n",
    "        illiquid_returns = pd.DataFrame(my_imputer_i.fit_transform(i_returns))\n",
    "        illiquid_returns.columns = i_returns.columns\n",
    "        \n",
    "        my_imputer_l = SimpleImputer()\n",
    "        liquid_returns = pd.DataFrame(my_imputer_l.fit_transform(l_returns))\n",
    "        liquid_returns.columns = l_returns.columns\n",
    "        \n",
    "        kmeans = KMeans(n_clusters=n_clusters, n_init=1, init='k-means++').fit(liquid_returns.T)\n",
    "        groupes = kmeans.predict(liquid_returns.T)\n",
    "        \n",
    "    elif preprocess_mode == 'avg_line':\n",
    "        \n",
    "        illiquid_returns = prepro(i_returns)\n",
    "        liquid_returns = prepro(l_returns)\n",
    "        kmeans = KMeans(n_clusters=n_clusters, n_init=1, init='k-means++').fit(liquid_returns.T)\n",
    "        groupes = kmeans.predict(liquid_returns.T)\n",
    "        \n",
    "    for i in range(n_clusters):\n",
    "        y_test_g=liquid_returns.iloc[:,np.where(groupes==i)[0]]\n",
    "\n",
    "        #kernel = DotProduct() + WhiteKernel()\n",
    "        kernel=1.0 * RBF(1.0)\n",
    "        model=GaussianProcessRegressor(kernel=kernel, random_state=0).fit(illiquid_returns, y_test_g)\n",
    "\n",
    "        idx_ret_features = np.where(X_to_predict.columns.str.contains('RET'))[0]\n",
    "        returns_to_predict = {}\n",
    "        for day in tqdm(X_to_predict.ID_DAY.unique()):\n",
    "            u = X_to_predict.loc[X_to_predict.ID_DAY == day]\n",
    "            a = u.iloc[0, idx_ret_features]\n",
    "            returns_to_predict[day] = a\n",
    "        returns_to_predict = pd.DataFrame(returns_to_predict).T.astype(float)\n",
    "\n",
    "        if preprocess_mode == 'avg_column':\n",
    "            my_imputer = SimpleImputer()\n",
    "            imputed_returns_to_predict = pd.DataFrame(my_imputer.fit_transform(returns_to_predict))\n",
    "            imputed_returns_to_predict.columns = returns_to_predict.columns\n",
    "\n",
    "        elif preprocess_mode == 'avg_line':\n",
    "            imputed_returns_to_predict = prepro(returns_to_predict)\n",
    "        prediction_n=pd.DataFrame(model.predict(imputed_returns_to_predict))\n",
    "        prediction_n.columns=y_test_g.columns\n",
    "        listecolonnes=listecolonnes+y_test_g.columns.values.tolist()\n",
    "        prediction = pd.concat([prediction,prediction_n],axis=1)\n",
    "    \n",
    "    returns_predicted = {}\n",
    "    day_list = []\n",
    "    k = 0\n",
    "    for day in tqdm(X_to_predict.ID_DAY.unique()):\n",
    "        c=pd.Series(prediction.iloc[k,:])\n",
    "        c.index = listecolonnes\n",
    "        returns_predicted[day] = c\n",
    "        day_list.append(day)\n",
    "        k+=1\n",
    "        \n",
    "    returns_predicted = pd.DataFrame(returns_predicted).T.astype(float)\n",
    "    \n",
    "    y_pred = {}   \n",
    "    for idx, row in tqdm(X_to_predict.iterrows()):\n",
    "        day = int(row.ID_DAY)\n",
    "        num_day = day_list.index(day)\n",
    "        num_ret = int(row.ID_TARGET)\n",
    "        str_ret = 'RET_' + str(num_ret)\n",
    "        y_pred[idx] = (returns_predicted[str_ret].iloc[num_day])\n",
    "        \n",
    "    y_pred = pd.Series(y_pred, name=\"RET_TARGET\")\n",
    "    \n",
    "    return np.sign(y_pred)"
   ]
  },
  {
   "cell_type": "markdown",
   "id": "6729104b-fe13-4d88-ab13-89676e317872",
   "metadata": {
    "jp-MarkdownHeadingCollapsed": true,
    "tags": []
   },
   "source": [
    "## 7. Résultats"
   ]
  },
  {
   "cell_type": "markdown",
   "id": "b3c39eb1-a62a-4fef-accb-87390ba67a25",
   "metadata": {
    "jp-MarkdownHeadingCollapsed": true,
    "tags": []
   },
   "source": [
    "### Création de lots d'apprentissage et de test"
   ]
  },
  {
   "cell_type": "code",
   "execution_count": 106,
   "id": "fcaa739d-f3b2-4533-a692-9514f9864f35",
   "metadata": {},
   "outputs": [],
   "source": [
    "index_train, index_test = train_test_split(i_returns.index.values.tolist(), test_size=0.9, random_state=42)\n",
    "index_train,index_nontraite=train_test_split(index_train, test_size=0.9, random_state=42)\n",
    "\n",
    "X_t, y_t = X_train[X_train['ID_DAY'].isin(index_train)], y_train[X_train['ID_DAY'].isin(index_train)]\n",
    "X_val, y_val = X_train[X_train['ID_DAY'].isin(index_test)], y_train[X_train['ID_DAY'].isin(index_test)]"
   ]
  },
  {
   "cell_type": "markdown",
   "id": "b0db5744-ac10-4cfe-8b65-f6c76afdd717",
   "metadata": {},
   "source": [
    "### Fonction score"
   ]
  },
  {
   "cell_type": "code",
   "execution_count": 107,
   "id": "d45dbf43-f96d-4d24-94db-81a8baea4ff8",
   "metadata": {},
   "outputs": [],
   "source": [
    "def weighted_accuracy(y_test, y_pred):\n",
    "    y_abs = np.abs(y_test)\n",
    "    norm = y_abs.sum()\n",
    "    score = ((np.sign(y_pred) == np.sign(y_test)) * y_abs).sum() / norm\n",
    "    return score"
   ]
  },
  {
   "cell_type": "markdown",
   "id": "d2195be1-2cb1-4a18-a1ca-08994f7d1aec",
   "metadata": {},
   "source": [
    "### Lancement de l'algorithme"
   ]
  },
  {
   "cell_type": "code",
   "execution_count": null,
   "id": "1ad29506-aae3-4aff-b401-b641fd6120e7",
   "metadata": {},
   "outputs": [
    {
     "data": {
      "application/vnd.jupyter.widget-view+json": {
       "model_id": "091457bdff7843d0ba2be1f3d329cbdd",
       "version_major": 2,
       "version_minor": 0
      },
      "text/plain": [
       "  0%|          | 0/2474 [00:00<?, ?it/s]"
      ]
     },
     "metadata": {},
     "output_type": "display_data"
    },
    {
     "data": {
      "application/vnd.jupyter.widget-view+json": {
       "model_id": "92c6b4e3262d4994a2d603daba2529ac",
       "version_major": 2,
       "version_minor": 0
      },
      "text/plain": [
       "0it [00:00, ?it/s]"
      ]
     },
     "metadata": {},
     "output_type": "display_data"
    },
    {
     "data": {
      "application/vnd.jupyter.widget-view+json": {
       "model_id": "e32a52e850654d00ac3d4b3beab3204c",
       "version_major": 2,
       "version_minor": 0
      },
      "text/plain": [
       "  0%|          | 0/2474 [00:00<?, ?it/s]"
      ]
     },
     "metadata": {},
     "output_type": "display_data"
    },
    {
     "data": {
      "application/vnd.jupyter.widget-view+json": {
       "model_id": "b885b937bd7043bbae6218ce3ad5afd1",
       "version_major": 2,
       "version_minor": 0
      },
      "text/plain": [
       "0it [00:00, ?it/s]"
      ]
     },
     "metadata": {},
     "output_type": "display_data"
    },
    {
     "data": {
      "text/plain": [
       "0.6092058745704502"
      ]
     },
     "execution_count": 109,
     "metadata": {},
     "output_type": "execute_result"
    }
   ],
   "source": [
    "# Tests\n",
    "\n",
    "pred = lasso(X_t, y_t, X_val, 2e-5, 3, 'avg_line')\n",
    "weighted_accuracy(np.array(y_val.RET_TARGET), np.sign(pred))"
   ]
  },
  {
   "cell_type": "code",
   "execution_count": null,
   "id": "b0d0f2ef-b81e-40f2-8407-71146efb7d25",
   "metadata": {},
   "outputs": [
    {
     "data": {
      "application/vnd.jupyter.widget-view+json": {
       "model_id": "91e8bfd0097346bbbf51624bd336859a",
       "version_major": 2,
       "version_minor": 0
      },
      "text/plain": [
       "  0%|          | 0/2748 [00:00<?, ?it/s]"
      ]
     },
     "metadata": {},
     "output_type": "display_data"
    },
    {
     "data": {
      "application/vnd.jupyter.widget-view+json": {
       "model_id": "0b2ce7aebbef4f24bf99ae5070c4f6e3",
       "version_major": 2,
       "version_minor": 0
      },
      "text/plain": [
       "0it [00:00, ?it/s]"
      ]
     },
     "metadata": {},
     "output_type": "display_data"
    },
    {
     "data": {
      "application/vnd.jupyter.widget-view+json": {
       "model_id": "2153cff74f6943198f1aa7b1eb406225",
       "version_major": 2,
       "version_minor": 0
      },
      "text/plain": [
       "0it [00:00, ?it/s]"
      ]
     },
     "metadata": {},
     "output_type": "display_data"
    },
    {
     "data": {
      "application/vnd.jupyter.widget-view+json": {
       "model_id": "48647953ab7a4009957980f550b69370",
       "version_major": 2,
       "version_minor": 0
      },
      "text/plain": [
       "  0%|          | 0/1177 [00:00<?, ?it/s]"
      ]
     },
     "metadata": {},
     "output_type": "display_data"
    },
    {
     "data": {
      "application/vnd.jupyter.widget-view+json": {
       "model_id": "7364b90db0974f0793a71b048b87b93f",
       "version_major": 2,
       "version_minor": 0
      },
      "text/plain": [
       "0it [00:00, ?it/s]"
      ]
     },
     "metadata": {},
     "output_type": "display_data"
    },
    {
     "data": {
      "application/vnd.jupyter.widget-view+json": {
       "model_id": "a801204d087c41b69580789987bdc58b",
       "version_major": 2,
       "version_minor": 0
      },
      "text/plain": [
       "0it [00:00, ?it/s]"
      ]
     },
     "metadata": {},
     "output_type": "display_data"
    }
   ],
   "source": [
    "# Résultat final\n",
    "\n",
    "pred = lasso(X_train, y_train, X_test, 2e-5, 3, 'avg_line')"
   ]
  },
  {
   "cell_type": "markdown",
   "id": "012c4f67-0dce-42fc-8804-5889df9d3430",
   "metadata": {},
   "source": [
    "### Enregistrement des résultats"
   ]
  },
  {
   "cell_type": "code",
   "execution_count": 110,
   "id": "115cf953-df6f-44c5-bac9-aebf66a8768a",
   "metadata": {},
   "outputs": [],
   "source": [
    "pred.name = \"RET_TARGET\"\n",
    "pred = pred.astype(int)\n",
    "pred.to_csv('y_res.csv', header=['RET_TARGET'])"
   ]
  },
  {
   "cell_type": "markdown",
   "id": "8c6ebf49-e63e-468a-bafa-7f31e7148541",
   "metadata": {
    "tags": []
   },
   "source": [
    "## 8. Annexe : Autres approches et pistes"
   ]
  },
  {
   "cell_type": "markdown",
   "id": "98fd53a3-ef27-4bad-a836-b83c3a351e71",
   "metadata": {
    "tags": []
   },
   "source": [
    "### ADA Boost Classification \n",
    "On utilise ici l'algorithme ADA Boost pour réaliser notre classification. \n",
    "\n",
    "Score obtenu : 0.6778301478142654\n"
   ]
  },
  {
   "cell_type": "code",
   "execution_count": null,
   "id": "c7cfc66e-cfba-48a9-be96-6bb880a40ff7",
   "metadata": {},
   "outputs": [
    {
     "name": "stderr",
     "output_type": "stream",
     "text": [
      "/opt/conda/lib/python3.7/site-packages/sklearn/utils/validation.py:985: DataConversionWarning: A column-vector y was passed when a 1d array was expected. Please change the shape of y to (n_samples, ), for example using ravel().\n",
      "  y = column_or_1d(y, warn=True)\n"
     ]
    }
   ],
   "source": [
    "from sklearn.ensemble import AdaBoostClassifier\n",
    "from sklearn.preprocessing import StandardScaler\n",
    "\n",
    "#Création du classifieur avec méthode ADA BOOST\n",
    "abc = AdaBoostClassifier(n_estimators=50,\n",
    "                         learning_rate=1)\n",
    "\n",
    "#Lecture des données et applications des nouveaux traitements\n",
    "X_train = pd.read_csv(\"X_train.csv\",index_col=0)\n",
    "Y_train=pd.read_csv(\"y_train.csv\",index_col=0)\n",
    "X_test = pd.read_csv(\"X_test.csv\",index_col=0)\n",
    "\n",
    "X_train.drop('ID_DAY',axis=1,inplace=True)\n",
    "X_train.drop('ID_TARGET',axis=1,inplace=True)\n",
    "X_test.drop('ID_DAY',axis=1,inplace=True)\n",
    "X_test.drop('ID_TARGET',axis=1,inplace=True)\n",
    "\n",
    "\n",
    "#Première approche : remplacement naif des valeurs manquantes par des zéros. \n",
    "X_train.fillna(0,inplace=True)\n",
    "Y_train.fillna(0,inplace=True)\n",
    "X_test.fillna(0,inplace=True)\n",
    "\n",
    "#Normalisation et standardisation des données \n",
    "scaler=StandardScaler()\n",
    "scaler.fit(X_train)\n",
    "X_train_scaled = scaler.transform(X_train)\n",
    "X_test_scaled = scaler.transform(X_test)\n",
    "\n",
    "#Transformation du problème en un problème de classification != regressiion\n",
    "\n",
    "Y_train['RET_TARGET_CLASS'] = np.where(Y_train['RET_TARGET']>0, 1, -1)\n",
    "Y_train.drop('RET_TARGET',axis=1,inplace=True)\n",
    "\n",
    "\n",
    "# Train Adaboost Classifer\n",
    "model = abc.fit(X_train_scaled, Y_train)\n",
    "\n",
    "#Predict the response for test dataset\n",
    "y_pred = model.predict(X_test_scaled)\n",
    "\n",
    "#Prédiction et écriture du fichier csv dans le chemin \n",
    "list_of_index=X_test.index\n",
    "\n",
    "\n",
    "df = pd.DataFrame(data=y_pred, columns=['RET_TARGET'],index=list_of_index)\n",
    "\n",
    "#Chemin vers lequel on veut enregistrer notre fichier submission csv\n",
    "path=r'C:\\Users\\ASUS\\Documents\\ProjetQRT_APP_STASC\\submission_ADA.csv'\n",
    "df.to_csv(path)"
   ]
  },
  {
   "cell_type": "markdown",
   "id": "b8d9263f-667b-44c9-89cf-7b44d504e25a",
   "metadata": {
    "tags": []
   },
   "source": [
    "### Autre approche basique pour prévoir le signe de nos actifs liquides : Claissification avec naive Bayes \n",
    "\n",
    "Résultat proche du précédent, 0.68"
   ]
  },
  {
   "cell_type": "code",
   "execution_count": null,
   "id": "f798ea0f-0065-44bd-adb7-704537c14ef6",
   "metadata": {},
   "outputs": [
    {
     "name": "stderr",
     "output_type": "stream",
     "text": [
      "/opt/conda/lib/python3.7/site-packages/sklearn/utils/validation.py:985: DataConversionWarning: A column-vector y was passed when a 1d array was expected. Please change the shape of y to (n_samples, ), for example using ravel().\n",
      "  y = column_or_1d(y, warn=True)\n"
     ]
    },
    {
     "name": "stdout",
     "output_type": "stream",
     "text": [
      "[ 1  1  1 ... -1 -1 -1]\n"
     ]
    }
   ],
   "source": [
    "from sklearn.naive_bayes import GaussianNB\n",
    "\n",
    "\n",
    "gnb = GaussianNB()\n",
    "y_pred = gnb.fit(X_train_scaled, Y_train).predict(X_test_scaled)\n",
    "print(y_pred)\n",
    "\n",
    "\n",
    "\n",
    "\n",
    "#list_of_index=index_list()\n",
    "\n",
    "list_of_index=X_test.index\n",
    "\n",
    "df = pd.DataFrame(data=y_pred, columns=['RET_TARGET'],index=list_of_index)\n",
    "path=r'C:\\Users\\ASUS\\Documents\\ProjetQRT_APP_STASC\\submission_NB.csv'\n",
    "df.to_csv(path)"
   ]
  },
  {
   "cell_type": "markdown",
   "id": "d4fcb8aa-d501-4945-810f-f36f979906e0",
   "metadata": {
    "jp-MarkdownHeadingCollapsed": true,
    "tags": []
   },
   "source": [
    "### Régression Logistique"
   ]
  },
  {
   "cell_type": "markdown",
   "id": "e28fc1d4-3893-4569-bb88-df6339b40289",
   "metadata": {
    "tags": []
   },
   "source": [
    "### K-Neighbors\n",
    "On utilse ici la méthode des plus proches voisins"
   ]
  },
  {
   "cell_type": "code",
   "execution_count": null,
   "id": "bc2bf20d-250b-4496-b429-765808d6714a",
   "metadata": {},
   "outputs": [],
   "source": [
    "X_train = pd.read_csv(\"X_train.csv\",index_col=0)\n",
    "Y_train=pd.read_csv(\"y_train.csv\",index_col=0)\n",
    "X_test = pd.read_csv(\"X_test.csv\",index_col=0)\n",
    "\n",
    "X_train.drop('ID_DAY',axis=1,inplace=True)\n",
    "X_train.drop('ID_TARGET',axis=1,inplace=True)\n",
    "X_test.drop('ID_DAY',axis=1,inplace=True)\n",
    "X_test.drop('ID_TARGET',axis=1,inplace=True)\n",
    "\n",
    "m = X_train.mean(axis=1)\n",
    "for i, col in enumerate(X_train):\n",
    "    # using i allows for duplicate columns\n",
    "    # inplace *may* not always work here, so IMO the next line is preferred\n",
    "    # df.iloc[:, i].fillna(m, inplace=True)\n",
    "    X_train.iloc[:, i] = X_train.iloc[:, i].fillna(m[i])\n",
    "    \n",
    "# Il est possible que certaines valeurs ait été oubliées, on les remplace par des zéros\n",
    "X_train.fillna(0,inplace=True)\n",
    "Y_train.fillna(0,inplace=True)\n",
    "X_test.fillna(0,inplace=True)\n",
    "\n",
    "#On normalise nos données\n",
    "scaler=StandardScaler()\n",
    "scaler.fit(X_train)\n",
    "X_train_scaled = scaler.transform(X_train)\n",
    "X_test_scaled = scaler.transform(X_test)\n",
    "\n",
    "Y_train['RET_TARGET_CLASS'] = np.where(Y_train['RET_TARGET']>0, 1, -1)\n",
    "Y_train.drop('RET_TARGET',axis=1,inplace=True)\n",
    "\n",
    "model = KNeighborsClassifier()\n",
    "cross_val_score(model, X_train, Y_train, cv=5, scoring='accuracy')\n",
    "\n"
   ]
  },
  {
   "cell_type": "markdown",
   "id": "61df67ce-00ac-47b7-a6f8-cf99def36293",
   "metadata": {},
   "source": [
    "Nous avons tenté d'augmenter la valeur du nombre de plus proches voisins, néanmoins, la méthode des plus proches voisins est devenu rapidement limitée. Les scores dépassaient difficilement les 62 % de bonnes prédictions. La compléxité quant à elle augmentait à force que le nombre de voisins étaient de plus en plus élévé."
   ]
  },
  {
   "cell_type": "code",
   "execution_count": null,
   "id": "8cc83e8c-8cd2-44e5-879e-39ff1eefa242",
   "metadata": {},
   "outputs": [],
   "source": [
    "#Estimations de l'erreur en fonction du nombre de plus proches voisins\n",
    "val_score = []\n",
    "for k in range(50, 100):\n",
    "    score = cross_val_score(KNeighborsClassifier(k), X_train, Y_train, cv=5).mean()\n",
    "    val_score.append(score)\n",
    "    print(score)\n",
    "    val_score.append(score)\n",
    "plt.plot(val_score)"
   ]
  },
  {
   "cell_type": "markdown",
   "id": "269f9e3e-8517-4faa-add2-208ec93ee618",
   "metadata": {},
   "source": [
    "Liste des scores obtenus et affichage : \n",
    "    "
   ]
  },
  {
   "cell_type": "code",
   "execution_count": null,
   "id": "175b6119-47a0-46fa-b627-5edc195c449e",
   "metadata": {},
   "outputs": [
    {
     "data": {
      "image/png": "[encoded data removed]",
      "text/plain": [
       "<Figure size 432x288 with 1 Axes>"
      ]
     },
     "metadata": {
      "needs_background": "light"
     },
     "output_type": "display_data"
    }
   ],
   "source": [
    "score_array=[0.547688131785848,\n",
    "0.5602396106327219,\n",
    "0.5718410707600,\n",
    "0.5775645825533509,\n",
    "0.5881973043803819,\n",
    "0.5925917259453388,\n",
    "0.5937149007862222,\n",
    "0.6018625982777985,\n",
    "0.6025645825533508,\n",
    "0.6049887682515911,\n",
    "0.6051104455260202,\n",
    "0.6066314114563834,\n",
    "0.6064629352302509,\n",
    "0.6079885810557843,\n",
    "0.6085314488955448,\n",
    "0.6101600524148258,\n",
    "0.6099892390965543,\n",
    "0.6113639528275816,\n",
    "0.6120191362008904,\n",
    "0.613042866862809,\n",
    "0.6129141648519225,\n",
    "0.6134348015128382,\n",
    "0.6145462774714874,\n",
    "0.6152541086730445,\n",
    "0.615593407985698,\n",
    "0.6157104055360805,\n",
    "0.6159619432967587,\n",
    "0.6168277326983345,\n",
    "0.6170851233736958,\n",
    "0.616780923411711,\n",
    "0.6172840203215471,\n",
    "0.6170032227784721,\n",
    "0.617746155383992,\n",
    "0.6170500118743706,\n",
    "0.6180561998763758,\n",
    "0.6177461529884823,\n",
    "0.6185183455475071,\n",
    "0.6187874389722937,\n",
    "0.6188342355969371,\n",
    "0.619986661596536,\n",
    "0.6195420681673569,\n",
    "0.619337325149136,\n",
    "0.6197526620469672,\n",
    "0.6198462621405674,\n",
    "0.6199515613903284]\n",
    "\n",
    "plt.plot(score_array)\n",
    "plt.show()"
   ]
  },
  {
   "cell_type": "markdown",
   "id": "575982dc-c958-4651-b843-e2e13ea9ce88",
   "metadata": {
    "tags": []
   },
   "source": [
    "### Regroupement des données \n",
    "On utilise ci dessous une fonction muette qui permet de retrouver les plus proches voisins associés à un actifs illiquides. L'idée étant de regrouper nos actifs liquides ensemble pour effectuer un traitement par lots."
   ]
  },
  {
   "cell_type": "code",
   "execution_count": null,
   "id": "d1ea5d65-034f-4b52-a583-e3c828bea1e8",
   "metadata": {},
   "outputs": [
    {
     "data": {
      "text/plain": [
       "array([[ 0, 68,  7, 16, 34]])"
      ]
     },
     "execution_count": 15,
     "metadata": {},
     "output_type": "execute_result"
    }
   ],
   "source": [
    "from sklearn.neighbors import KDTree\n",
    "\n",
    "def selection_neigh_class(id_of_asset,number_of_neighbors):\n",
    "    \n",
    "    #Lecture des données supplémentaires\n",
    "    supp_data=pd.read_csv(\"supplementary_data.csv\",index_col=0)\n",
    "\n",
    "    #On crée un arbre \n",
    "    tree = KDTree(supp_data, leaf_size=2)\n",
    "\n",
    "    \n",
    "    # On récupère la première ligne avec supp_data[:i]\n",
    "    dist, ind = tree.query(supp_data[:id_of_asset], k=number_of_neighbors) \n",
    "\n",
    "    return ind\n",
    "\n",
    "#Exemple avec l'actif numéroté 1, ses plus proches voisins sont les actifs 16 et 7, 0, 68 et 34\n",
    "selection_neigh_class(1,5)\n"
   ]
  }
 ],
 "metadata": {
  "environment": {
   "kernel": "python3",
   "name": "tf2-gpu.2-7.m87",
   "type": "gcloud",
   "uri": "gcr.io/deeplearning-platform-release/tf2-gpu.2-7:m87"
  },
  "kernelspec": {
   "display_name": "Python 3",
   "language": "python",
   "name": "python3"
  },
  "language_info": {
   "codemirror_mode": {
    "name": "ipython",
    "version": 3
   },
   "file_extension": ".py",
   "mimetype": "text/x-python",
   "name": "python",
   "nbconvert_exporter": "python",
   "pygments_lexer": "ipython3",
   "version": "3.7.12"
  }
 },
 "nbformat": 4,
 "nbformat_minor": 5
}
